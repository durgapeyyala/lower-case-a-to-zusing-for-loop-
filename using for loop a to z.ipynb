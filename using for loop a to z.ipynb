{
 "cells": [
  {
   "cell_type": "code",
   "execution_count": 1,
   "id": "64475c4f",
   "metadata": {},
   "outputs": [
    {
     "name": "stdout",
     "output_type": "stream",
     "text": [
      "  *  *        \n",
      "*      *       \n",
      "*      *       \n",
      "*      *       \n",
      "  *   *  *    \n",
      "            *\n"
     ]
    }
   ],
   "source": [
    "a=1\n",
    "for x in range(6):\n",
    "    if a==1:\n",
    "        print(\"  *  *        \")\n",
    "    elif a==2:\n",
    "        print(\"*      *       \")\n",
    "    elif a==3:\n",
    "        print(\"*      *       \")\n",
    "    elif a==4:\n",
    "        print(\"*      *       \")\n",
    "    elif a==5:\n",
    "        print(\"  *   *  *    \")\n",
    "    elif a==6:\n",
    "        print(\"            *\")\n",
    "    a=a+1"
   ]
  },
  {
   "cell_type": "code",
   "execution_count": 2,
   "id": "d7500673",
   "metadata": {},
   "outputs": [
    {
     "name": "stdout",
     "output_type": "stream",
     "text": [
      "*        \n",
      "*        \n",
      "* * *    \n",
      "*    * \n",
      "* * *    \n"
     ]
    }
   ],
   "source": [
    "a=1\n",
    "for x in range(6):\n",
    "    if a==1:\n",
    "        print(\"*        \")\n",
    "    elif a==2:\n",
    "        print(\"*        \")\n",
    "    elif a==3:\n",
    "        print(\"* * *    \")\n",
    "    elif a==4:\n",
    "        print(\"*    * \")\n",
    "    elif a==5:\n",
    "        print(\"* * *    \")\n",
    "    a=a+1"
   ]
  },
  {
   "cell_type": "code",
   "execution_count": 3,
   "id": "e7baabd4",
   "metadata": {},
   "outputs": [
    {
     "name": "stdout",
     "output_type": "stream",
     "text": [
      "      *  *\n",
      "   *     \n",
      "*        \n",
      "*        \n",
      "*        \n",
      "   *     \n",
      "      *  *\n"
     ]
    }
   ],
   "source": [
    "a=1\n",
    "for x in range(7):\n",
    "    if a==1:\n",
    "        print(\"      *  *\")\n",
    "    elif a==2:\n",
    "        print(\"   *     \")\n",
    "    elif a==3:\n",
    "        print(\"*        \")\n",
    "    elif a==4:\n",
    "        print(\"*        \")\n",
    "    elif a==5:\n",
    "        print(\"*        \")\n",
    "    elif a==6:\n",
    "        print(\"   *     \")\n",
    "    elif a==7:\n",
    "        print(\"      *  *\")\n",
    "    a=a+1"
   ]
  },
  {
   "cell_type": "code",
   "execution_count": 4,
   "id": "9d4ca8a6",
   "metadata": {},
   "outputs": [
    {
     "name": "stdout",
     "output_type": "stream",
     "text": [
      "        *\n",
      "        *\n",
      " * * *  * \n",
      "*       *\n",
      " * * * *\n"
     ]
    }
   ],
   "source": [
    "a=1\n",
    "for x in range(6):\n",
    "    if a==1:\n",
    "        print(\"        *\")\n",
    "    elif a==2:\n",
    "        print(\"        *\")\n",
    "    elif a==3:\n",
    "        print(\" * * *  * \")\n",
    "    elif a==4:\n",
    "        print(\"*       *\")\n",
    "    elif a==5:\n",
    "        print(\" * * * *\")\n",
    "    a=a+1"
   ]
  },
  {
   "cell_type": "code",
   "execution_count": 5,
   "id": "d173ca83",
   "metadata": {},
   "outputs": [
    {
     "name": "stdout",
     "output_type": "stream",
     "text": [
      "  * * * \n",
      "*      * \n",
      "* * * * \n",
      "*       \n",
      "  * * * \n"
     ]
    }
   ],
   "source": [
    "a=1\n",
    "for x in range(5):\n",
    "    if a==1:\n",
    "        print(\"  * * * \")\n",
    "    elif a==2:\n",
    "        print(\"*      * \")\n",
    "    elif a==3:\n",
    "        print(\"* * * * \")\n",
    "    elif a==4:\n",
    "        print(\"*       \")\n",
    "    elif a==5:\n",
    "        print(\"  * * * \")\n",
    "    a=a+1"
   ]
  },
  {
   "cell_type": "code",
   "execution_count": 6,
   "id": "b7bcfd26",
   "metadata": {},
   "outputs": [
    {
     "name": "stdout",
     "output_type": "stream",
     "text": [
      "    * * * \n",
      "  *       \n",
      "* * * * * \n",
      "  *       \n",
      "  *       \n"
     ]
    }
   ],
   "source": [
    "a=1\n",
    "for x in range(5):\n",
    "    if a==1:\n",
    "        print(\"    * * * \")\n",
    "    elif a==2:\n",
    "        print(\"  *       \")\n",
    "    elif a==3:\n",
    "        print(\"* * * * * \")\n",
    "    elif a==4:\n",
    "        print(\"  *       \")\n",
    "    elif a==5:\n",
    "        print(\"  *       \")\n",
    "    a=a+1"
   ]
  },
  {
   "cell_type": "code",
   "execution_count": 7,
   "id": "ae32f6ec",
   "metadata": {},
   "outputs": [
    {
     "name": "stdout",
     "output_type": "stream",
     "text": [
      " * * * *\n",
      "*       *\n",
      "* * * * *\n",
      "        *\n",
      "* * * * *\n"
     ]
    }
   ],
   "source": [
    "a=1\n",
    "for x in range(6):\n",
    "    if a==1:\n",
    "        print(\" * * * *\")\n",
    "    elif a==2:\n",
    "        print(\"*       *\")\n",
    "    elif a==3:\n",
    "        print(\"* * * * *\")\n",
    "    elif a==4:\n",
    "        print(\"        *\")\n",
    "    elif a==5:\n",
    "        print(\"* * * * *\")\n",
    "    a=a+1"
   ]
  },
  {
   "cell_type": "code",
   "execution_count": 8,
   "id": "63eb9ae1",
   "metadata": {},
   "outputs": [
    {
     "name": "stdout",
     "output_type": "stream",
     "text": [
      "*        \n",
      "*        \n",
      "* * * * *\n",
      "*       *\n",
      "*       *\n"
     ]
    }
   ],
   "source": [
    "a=1\n",
    "for x in range(5):\n",
    "    if a==1:\n",
    "        print(\"*        \")\n",
    "    elif a==2:\n",
    "        print(\"*        \")\n",
    "    elif a==3:\n",
    "        print(\"* * * * *\")\n",
    "    elif a==4:\n",
    "        print(\"*       *\")\n",
    "    elif a==5:\n",
    "        print(\"*       *\")\n",
    "    a=a+1"
   ]
  },
  {
   "cell_type": "code",
   "execution_count": 9,
   "id": "dba3b180",
   "metadata": {},
   "outputs": [
    {
     "name": "stdout",
     "output_type": "stream",
     "text": [
      "    * *    \n",
      "   *   * \n",
      "    * *    \n",
      "     *    \n",
      "     *    \n",
      "     *    \n"
     ]
    }
   ],
   "source": [
    "a=1\n",
    "for x in range(6):\n",
    "    if a==1:\n",
    "        print(\"    * *    \")\n",
    "    elif a==2:\n",
    "        print(\"   *   * \")\n",
    "    elif a==3:\n",
    "        print(\"    * *    \")\n",
    "    elif a==4:\n",
    "        print(\"     *    \")\n",
    "    elif a==5:\n",
    "        print(\"     *    \")\n",
    "    elif a==6:\n",
    "        print(\"     *    \")\n",
    "    a=a+1"
   ]
  },
  {
   "cell_type": "code",
   "execution_count": 10,
   "id": "afed1947",
   "metadata": {},
   "outputs": [
    {
     "name": "stdout",
     "output_type": "stream",
     "text": [
      "     * *    \n",
      "    *   * \n",
      "     * *    \n",
      "      *    \n",
      " *    *    \n",
      "   *  *    \n"
     ]
    }
   ],
   "source": [
    "a=1\n",
    "for x in range(6):\n",
    "    if a==1:\n",
    "        print(\"     * *    \")\n",
    "    elif a==2:\n",
    "        print(\"    *   * \")\n",
    "    elif a==3:\n",
    "        print(\"     * *    \")\n",
    "    elif a==4:\n",
    "        print(\"      *    \")\n",
    "    elif a==5:\n",
    "        print(\" *    *    \")\n",
    "    elif a==6:\n",
    "        print(\"   *  *    \")\n",
    "    a=a+1"
   ]
  },
  {
   "cell_type": "code",
   "execution_count": 11,
   "id": "b27e5f59",
   "metadata": {},
   "outputs": [
    {
     "name": "stdout",
     "output_type": "stream",
     "text": [
      "*      *\n",
      "*    *  \n",
      "* *     \n",
      "*    *  \n",
      "*      *\n"
     ]
    }
   ],
   "source": [
    "a=1\n",
    "for x in range(5):\n",
    "    if a==1:\n",
    "        print(\"*      *\")\n",
    "    elif a==2:\n",
    "        print(\"*    *  \")\n",
    "    elif a==3:\n",
    "        print(\"* *     \")\n",
    "    elif a==4:\n",
    "        print(\"*    *  \")\n",
    "    elif a==5:\n",
    "        print(\"*      *\")\n",
    "    a=a+1"
   ]
  },
  {
   "cell_type": "code",
   "execution_count": 12,
   "id": "48434e72",
   "metadata": {},
   "outputs": [
    {
     "name": "stdout",
     "output_type": "stream",
     "text": [
      "       *          \n",
      "       *          \n",
      "       *          \n",
      "       *          \n",
      "       *          \n"
     ]
    }
   ],
   "source": [
    "a=1\n",
    "for x in range(5):\n",
    "    if a==1:\n",
    "        print(\"       *          \")\n",
    "    elif a==2:\n",
    "        print(\"       *          \")\n",
    "    elif a==3:\n",
    "        print(\"       *          \")\n",
    "    elif a==4:\n",
    "        print(\"       *          \")\n",
    "    elif a==5:\n",
    "        print(\"       *          \")\n",
    "    a=a+1"
   ]
  },
  {
   "cell_type": "code",
   "execution_count": 13,
   "id": "9d8ccff7",
   "metadata": {},
   "outputs": [
    {
     "name": "stdout",
     "output_type": "stream",
     "text": [
      "   *          \n",
      "*   **  *   * \n",
      "*   *    *     *  \n",
      "    *    *     *\n",
      "    *    *     *  \n"
     ]
    }
   ],
   "source": [
    "a=1\n",
    "for x in range(5):\n",
    "    if a==1:\n",
    "        print(\"   *          \")\n",
    "    elif a==2:\n",
    "        print(\"*   **  *   * \")\n",
    "    elif a==3:\n",
    "        print(\"*   *    *     *  \")\n",
    "    elif a==4:\n",
    "        print(\"    *    *     *\")\n",
    "    elif a==5:\n",
    "        print(\"    *    *     *  \")\n",
    "    a=a+1"
   ]
  },
  {
   "cell_type": "code",
   "execution_count": 14,
   "id": "7dab2f55",
   "metadata": {},
   "outputs": [
    {
     "name": "stdout",
     "output_type": "stream",
     "text": [
      "   *           \n",
      "*  *  * *      \n",
      "*   *    *     \n",
      "    *    *     \n",
      "    *    *     \n"
     ]
    }
   ],
   "source": [
    "a=1\n",
    "for x in range(5):\n",
    "    if a==1:\n",
    "        print(\"   *           \")\n",
    "    elif a==2:\n",
    "        print(\"*  *  * *      \")\n",
    "    elif a==3:\n",
    "        print(\"*   *    *     \")\n",
    "    elif a==4:\n",
    "        print(\"    *    *     \")\n",
    "    elif a==5:\n",
    "        print(\"    *    *     \")\n",
    "    a=a+1"
   ]
  },
  {
   "cell_type": "code",
   "execution_count": 15,
   "id": "a54a9328",
   "metadata": {},
   "outputs": [
    {
     "name": "stdout",
     "output_type": "stream",
     "text": [
      "   *  *   *  \n",
      "*            *\n",
      "*            *\n",
      "*            *\n",
      "   *  *   *  \n"
     ]
    }
   ],
   "source": [
    "a=1\n",
    "for x in range(5):\n",
    "    if a==1:\n",
    "        print(\"   *  *   *  \")\n",
    "    elif a==2:\n",
    "        print(\"*            *\")\n",
    "    elif a==3:\n",
    "        print(\"*            *\")\n",
    "    elif a==4:\n",
    "        print(\"*            *\")\n",
    "    elif a==5:\n",
    "        print(\"   *  *   *  \")\n",
    "    a=a+1 "
   ]
  },
  {
   "cell_type": "code",
   "execution_count": 16,
   "id": "118d40a3",
   "metadata": {},
   "outputs": [
    {
     "name": "stdout",
     "output_type": "stream",
     "text": [
      "  *  *   *  \n",
      "*          *\n",
      "*  *  *   *  \n",
      "*             \n",
      "*             \n"
     ]
    }
   ],
   "source": [
    "a=1\n",
    "for x in range(5):\n",
    "    if a==1:\n",
    "        print(\"  *  *   *  \")\n",
    "    elif a==2:\n",
    "        print(\"*          *\")\n",
    "    elif a==3:\n",
    "        print(\"*  *  *   *  \")\n",
    "    elif a==4:\n",
    "        print(\"*             \")\n",
    "    elif a==5:\n",
    "        print(\"*             \")\n",
    "    a=a+1 "
   ]
  },
  {
   "cell_type": "code",
   "execution_count": 17,
   "id": "35af2f91",
   "metadata": {},
   "outputs": [
    {
     "name": "stdout",
     "output_type": "stream",
     "text": [
      "  *  *  *  \n",
      "*          *\n",
      "   *  *   *      *\n",
      "           *    *         \n",
      "             *             \n"
     ]
    }
   ],
   "source": [
    "a=1\n",
    "for x in range(5):\n",
    "    if a==1:\n",
    "        print(\"  *  *  *  \")\n",
    "    elif a==2:\n",
    "        print(\"*          *\")\n",
    "    elif a==3:\n",
    "        print(\"   *  *   *      *\")\n",
    "    elif a==4:\n",
    "        print(\"           *    *         \")\n",
    "    elif a==5:\n",
    "        print(\"             *             \")\n",
    "    a=a+1 "
   ]
  },
  {
   "cell_type": "code",
   "execution_count": 18,
   "id": "099ac0ac",
   "metadata": {},
   "outputs": [
    {
     "name": "stdout",
     "output_type": "stream",
     "text": [
      "*           *    \n",
      " *         * \n",
      "   *     *    \n",
      "      *        \n",
      "   *     *    \n",
      "      *       \n"
     ]
    }
   ],
   "source": [
    "a=1\n",
    "for x in range(6):\n",
    "    if a==1:\n",
    "        print(\"*           *    \")\n",
    "    elif a==2:\n",
    "        print(\" *         * \")\n",
    "    elif a==3:\n",
    "        print(\"   *     *    \")\n",
    "    elif a==4:\n",
    "        print(\"      *        \")\n",
    "    elif a==5:\n",
    "        print(\"   *     *    \")\n",
    "    elif a==6:\n",
    "        print(\"      *       \")\n",
    "    a=a+1 "
   ]
  },
  {
   "cell_type": "code",
   "execution_count": 19,
   "id": "16a29b4e",
   "metadata": {},
   "outputs": [
    {
     "name": "stdout",
     "output_type": "stream",
     "text": [
      "  *  *   *  *  \n",
      "*               \n",
      "*  *  *   *   * \n",
      "              * \n",
      "*  *  *   *    \n"
     ]
    }
   ],
   "source": [
    "a=1\n",
    "for x in range(5):\n",
    "    if a==1:\n",
    "        print(\"  *  *   *  *  \")\n",
    "    elif a==2:\n",
    "        print(\"*               \")\n",
    "    elif a==3:\n",
    "        print(\"*  *  *   *   * \")\n",
    "    elif a==4:\n",
    "        print(\"              * \")\n",
    "    elif a==5:\n",
    "        print(\"*  *  *   *    \")\n",
    "    a=a+1 "
   ]
  },
  {
   "cell_type": "code",
   "execution_count": 20,
   "id": "6abcf8dc",
   "metadata": {},
   "outputs": [
    {
     "name": "stdout",
     "output_type": "stream",
     "text": [
      "  * \n",
      "  *       \n",
      "* * * * * \n",
      "  *       \n",
      "  * * * *      \n"
     ]
    }
   ],
   "source": [
    "a=1\n",
    "for x in range(5):\n",
    "    if a==1:\n",
    "        print(\"  * \")\n",
    "    elif a==2:\n",
    "        print(\"  *       \")\n",
    "    elif a==3:\n",
    "        print(\"* * * * * \")\n",
    "    elif a==4:\n",
    "        print(\"  *       \")\n",
    "    elif a==5:\n",
    "        print(\"  * * * *      \")\n",
    "    a=a+1"
   ]
  },
  {
   "cell_type": "code",
   "execution_count": 21,
   "id": "1fbf7c3b",
   "metadata": {},
   "outputs": [
    {
     "name": "stdout",
     "output_type": "stream",
     "text": [
      "*            *\n",
      "*            *\n",
      "*            *\n",
      "*            *\n",
      "   *  *   *    *\n",
      "                  *\n"
     ]
    }
   ],
   "source": [
    "a=1\n",
    "for x in range(6):\n",
    "    if a==1:\n",
    "        print(\"*            *\")\n",
    "    elif a==2:\n",
    "        print(\"*            *\")\n",
    "    elif a==3:\n",
    "        print(\"*            *\")\n",
    "    elif a==4:\n",
    "        print(\"*            *\")\n",
    "    elif a==5:\n",
    "        print(\"   *  *   *    *\")\n",
    "    elif a==6:\n",
    "        print(\"                  *\")\n",
    "    a=a+1"
   ]
  },
  {
   "cell_type": "code",
   "execution_count": 22,
   "id": "e1af54d1",
   "metadata": {},
   "outputs": [
    {
     "name": "stdout",
     "output_type": "stream",
     "text": [
      "   *        *   \n",
      "    *      *    \n",
      "     *    *     \n",
      "      *  *      \n",
      "        *       \n"
     ]
    }
   ],
   "source": [
    "a=1\n",
    "for x in range(5):\n",
    "    if a==1:\n",
    "        print(\"   *        *   \")\n",
    "    elif a==2:\n",
    "        print(\"    *      *    \")\n",
    "    elif a==3: \n",
    "        print(\"     *    *     \")\n",
    "    elif a==4:\n",
    "        print(\"      *  *      \")\n",
    "    elif a==5:\n",
    "        print(\"        *       \")\n",
    "    a=a+1"
   ]
  },
  {
   "cell_type": "code",
   "execution_count": 23,
   "id": "0074c524",
   "metadata": {},
   "outputs": [
    {
     "name": "stdout",
     "output_type": "stream",
     "text": [
      "*           *\n",
      "*           *\n",
      "*     *     *\n",
      "*   *    *  *\n",
      "*           *\n"
     ]
    }
   ],
   "source": [
    "a=1\n",
    "for x in range(5):\n",
    "    if a==1:\n",
    "        print(\"*           *\")\n",
    "    elif a==2:\n",
    "        print(\"*           *\")\n",
    "    elif a==3:\n",
    "        print(\"*     *     *\")\n",
    "    elif a==4:\n",
    "        print(\"*   *    *  *\")\n",
    "    elif a==5:\n",
    "        print(\"*           *\")\n",
    "    a=a+1 "
   ]
  },
  {
   "cell_type": "code",
   "execution_count": 24,
   "id": "2d6ce3d6",
   "metadata": {},
   "outputs": [
    {
     "name": "stdout",
     "output_type": "stream",
     "text": [
      "  * * *      * * * \n",
      "         **         \n",
      "         ** \n",
      "         **         \n",
      "  * * *      * * * \n"
     ]
    }
   ],
   "source": [
    "a=1\n",
    "for x in range(5):\n",
    "    if a==1:\n",
    "        print(\"  * * *      * * * \")\n",
    "    elif a==2:\n",
    "        print(\"         **         \")\n",
    "    elif a==3:\n",
    "        print(\"         ** \")\n",
    "    elif a==4:\n",
    "        print(\"         **         \")\n",
    "    elif a==5:\n",
    "        print(\"  * * *      * * * \")\n",
    "    a=a+1"
   ]
  },
  {
   "cell_type": "code",
   "execution_count": 25,
   "id": "883f40f0",
   "metadata": {},
   "outputs": [
    {
     "name": "stdout",
     "output_type": "stream",
     "text": [
      "*          *\n",
      "*          *\n",
      "  *  *  *  *   \n",
      "           *\n",
      "           *    \n",
      " *  *  *  *        \n"
     ]
    }
   ],
   "source": [
    "a=1\n",
    "for x in range(6):\n",
    "    if a==1:\n",
    "        print(\"*          *\")\n",
    "    elif a==2:\n",
    "        print(\"*          *\")\n",
    "    elif a==3:\n",
    "        print(\"  *  *  *  *   \")\n",
    "    elif a==4:\n",
    "        print(\"           *\")\n",
    "    elif a==5:\n",
    "        print(\"           *    \")\n",
    "    elif a==6:\n",
    "        print(\" *  *  *  *        \")\n",
    "    a=a+1 "
   ]
  },
  {
   "cell_type": "code",
   "execution_count": 26,
   "id": "0b74e181",
   "metadata": {},
   "outputs": [
    {
     "name": "stdout",
     "output_type": "stream",
     "text": [
      "  * * * *  \n",
      "       *    \n",
      "      *        \n",
      "    *          \n",
      "  * * * * \n"
     ]
    }
   ],
   "source": [
    "a=1\n",
    "for x in range(5):\n",
    "    if a==1:\n",
    "        print(\"  * * * *  \")\n",
    "    elif a==2:\n",
    "        print(\"       *    \")\n",
    "    elif a==3:\n",
    "        print(\"      *        \")\n",
    "    elif a==4:\n",
    "        print(\"    *          \")\n",
    "    elif a==5:\n",
    "        print(\"  * * * * \")\n",
    "    a=a+1 "
   ]
  },
  {
   "cell_type": "code",
   "execution_count": null,
   "id": "887790cd",
   "metadata": {},
   "outputs": [],
   "source": []
  }
 ],
 "metadata": {
  "kernelspec": {
   "display_name": "Python 3 (ipykernel)",
   "language": "python",
   "name": "python3"
  },
  "language_info": {
   "codemirror_mode": {
    "name": "ipython",
    "version": 3
   },
   "file_extension": ".py",
   "mimetype": "text/x-python",
   "name": "python",
   "nbconvert_exporter": "python",
   "pygments_lexer": "ipython3",
   "version": "3.9.13"
  }
 },
 "nbformat": 4,
 "nbformat_minor": 5
}
